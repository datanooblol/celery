{
 "cells": [
  {
   "cell_type": "markdown",
   "id": "6136e27d",
   "metadata": {},
   "source": [
    "# FastAPI with Celery and Redis"
   ]
  },
  {
   "cell_type": "code",
   "execution_count": 2,
   "id": "b82545af",
   "metadata": {},
   "outputs": [],
   "source": [
    "import requests"
   ]
  },
  {
   "cell_type": "code",
   "execution_count": 26,
   "id": "6c2f55c9",
   "metadata": {},
   "outputs": [
    {
     "data": {
      "text/plain": [
       "'e4652de6-4d85-402e-9063-5fa47d25f986'"
      ]
     },
     "execution_count": 26,
     "metadata": {},
     "output_type": "execute_result"
    }
   ],
   "source": [
    "response = requests.get('http://localhost:8000/add')\n",
    "response = response.json()\n",
    "task_id = response['task_id']\n",
    "task_id"
   ]
  },
  {
   "cell_type": "code",
   "execution_count": 30,
   "id": "10a1164e",
   "metadata": {},
   "outputs": [
    {
     "name": "stdout",
     "output_type": "stream",
     "text": [
      "{'task_status': 'SUCCESS'}\n"
     ]
    }
   ],
   "source": [
    "response = requests.get(f'http://localhost:8000/task/status/{task_id}')\n",
    "print(response.json())"
   ]
  },
  {
   "cell_type": "code",
   "execution_count": 31,
   "id": "02fa696c",
   "metadata": {},
   "outputs": [
    {
     "name": "stdout",
     "output_type": "stream",
     "text": [
      "{'task_result': 12}\n"
     ]
    }
   ],
   "source": [
    "response = requests.get(f'http://localhost:8000/task/result/{task_id}')\n",
    "print(response.json())"
   ]
  },
  {
   "cell_type": "code",
   "execution_count": 32,
   "id": "6ac4db1f",
   "metadata": {},
   "outputs": [
    {
     "data": {
      "text/plain": [
       "'91a17921-26b9-47a2-8ccc-bc0322dcacd9'"
      ]
     },
     "execution_count": 32,
     "metadata": {},
     "output_type": "execute_result"
    }
   ],
   "source": [
    "response = requests.get('http://localhost:8000/group/add')\n",
    "response = response.json()\n",
    "task_id = response['task_id']\n",
    "task_id"
   ]
  },
  {
   "cell_type": "code",
   "execution_count": 36,
   "id": "9c52d3c7",
   "metadata": {},
   "outputs": [
    {
     "name": "stdout",
     "output_type": "stream",
     "text": [
      "{'successful': True}\n"
     ]
    }
   ],
   "source": [
    "response = requests.get(f'http://localhost:8000/group/status/{task_id}')\n",
    "print(response.json())"
   ]
  },
  {
   "cell_type": "code",
   "execution_count": 37,
   "id": "23d437f2",
   "metadata": {},
   "outputs": [
    {
     "name": "stdout",
     "output_type": "stream",
     "text": [
      "{'group_result': [0, 2, 4, 6, 8, 10, 12, 14, 16, 18, 20, 22, 24, 26, 28, 30, 32, 34, 36, 38]}\n"
     ]
    }
   ],
   "source": [
    "response = requests.get(f'http://localhost:8000/group/result/{task_id}')\n",
    "print(response.json())"
   ]
  },
  {
   "cell_type": "markdown",
   "id": "298dccd9",
   "metadata": {},
   "source": [
    "# Celery Group"
   ]
  },
  {
   "cell_type": "code",
   "execution_count": 38,
   "id": "c5c692b4",
   "metadata": {},
   "outputs": [],
   "source": [
    "from worker import celery_app, add\n",
    "from celery.result import AsyncResult, GroupResult\n",
    "from celery import group, chord, chain"
   ]
  },
  {
   "cell_type": "code",
   "execution_count": 39,
   "id": "0a72e206",
   "metadata": {},
   "outputs": [],
   "source": [
    "jobs = group(add.s(i, i) for i in range(2))\n",
    "result = jobs.apply_async()\n",
    "result.save()\n",
    "group_id = result.id"
   ]
  },
  {
   "cell_type": "code",
   "execution_count": 40,
   "id": "5bc7b76a",
   "metadata": {},
   "outputs": [],
   "source": [
    "# results = GroupResult.restore(task_id, app=celery_app)\n",
    "restored = GroupResult.restore(group_id, app=celery_app)\n",
    "\n",
    "if restored.ready():\n",
    "    print(\"All subtasks completed.\")"
   ]
  },
  {
   "cell_type": "code",
   "execution_count": 43,
   "id": "8e97d3cf",
   "metadata": {},
   "outputs": [
    {
     "data": {
      "text/plain": [
       "True"
      ]
     },
     "execution_count": 43,
     "metadata": {},
     "output_type": "execute_result"
    }
   ],
   "source": [
    "restored.successful()"
   ]
  },
  {
   "cell_type": "code",
   "execution_count": 44,
   "id": "c2f87397",
   "metadata": {},
   "outputs": [
    {
     "data": {
      "text/plain": [
       "[0, 2]"
      ]
     },
     "execution_count": 44,
     "metadata": {},
     "output_type": "execute_result"
    }
   ],
   "source": [
    "restored.get()"
   ]
  },
  {
   "cell_type": "code",
   "execution_count": null,
   "id": "6a559b5c",
   "metadata": {},
   "outputs": [],
   "source": []
  }
 ],
 "metadata": {
  "kernelspec": {
   "display_name": ".venv",
   "language": "python",
   "name": "python3"
  },
  "language_info": {
   "codemirror_mode": {
    "name": "ipython",
    "version": 3
   },
   "file_extension": ".py",
   "mimetype": "text/x-python",
   "name": "python",
   "nbconvert_exporter": "python",
   "pygments_lexer": "ipython3",
   "version": "3.11.12"
  }
 },
 "nbformat": 4,
 "nbformat_minor": 5
}
