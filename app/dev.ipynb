{
 "cells": [
  {
   "cell_type": "markdown",
   "id": "6136e27d",
   "metadata": {},
   "source": [
    "# FastAPI with Celery and Redis"
   ]
  },
  {
   "cell_type": "code",
   "execution_count": 1,
   "id": "b82545af",
   "metadata": {},
   "outputs": [],
   "source": [
    "import requests"
   ]
  },
  {
   "cell_type": "code",
   "execution_count": 2,
   "id": "6c2f55c9",
   "metadata": {},
   "outputs": [
    {
     "data": {
      "text/plain": [
       "'d5cd09f5-0346-4803-9dfc-da2fa0adb182'"
      ]
     },
     "execution_count": 2,
     "metadata": {},
     "output_type": "execute_result"
    }
   ],
   "source": [
    "response = requests.get('http://localhost:8000/add')\n",
    "response = response.json()\n",
    "task_id = response['task_id']\n",
    "task_id"
   ]
  },
  {
   "cell_type": "code",
   "execution_count": 3,
   "id": "10a1164e",
   "metadata": {},
   "outputs": [
    {
     "name": "stdout",
     "output_type": "stream",
     "text": [
      "{'task_id': 'd5cd09f5-0346-4803-9dfc-da2fa0adb182', 'status': 'PENDING'}\n"
     ]
    }
   ],
   "source": [
    "response = requests.get(f'http://localhost:8000/task/status/{task_id}')\n",
    "print(response.json())"
   ]
  },
  {
   "cell_type": "code",
   "execution_count": 6,
   "id": "02fa696c",
   "metadata": {},
   "outputs": [
    {
     "name": "stdout",
     "output_type": "stream",
     "text": [
      "{'status': 'completed', 'result': 10}\n"
     ]
    }
   ],
   "source": [
    "response = requests.get(f'http://localhost:8000/task/result/{task_id}')\n",
    "print(response.json())"
   ]
  },
  {
   "cell_type": "code",
   "execution_count": 7,
   "id": "6ac4db1f",
   "metadata": {},
   "outputs": [
    {
     "data": {
      "text/plain": [
       "'1edf3fa6-09cb-4fe8-9b1d-59de1de0547f'"
      ]
     },
     "execution_count": 7,
     "metadata": {},
     "output_type": "execute_result"
    }
   ],
   "source": [
    "response = requests.get('http://localhost:8000/group/add')\n",
    "response = response.json()\n",
    "task_id = response['task_id']\n",
    "task_id"
   ]
  },
  {
   "cell_type": "code",
   "execution_count": 8,
   "id": "9c52d3c7",
   "metadata": {},
   "outputs": [
    {
     "name": "stdout",
     "output_type": "stream",
     "text": [
      "{'successful': False}\n"
     ]
    }
   ],
   "source": [
    "response = requests.get(f'http://localhost:8000/group/status/{task_id}')\n",
    "print(response.json())"
   ]
  },
  {
   "cell_type": "code",
   "execution_count": 12,
   "id": "23d437f2",
   "metadata": {},
   "outputs": [
    {
     "name": "stdout",
     "output_type": "stream",
     "text": [
      "{'status': 'completed', 'result': [0, 2, 4, 6, 8, 10, 12, 14, 16, 18, 20, 22, 24, 26, 28, 30, 32, 34, 36, 38]}\n"
     ]
    }
   ],
   "source": [
    "response = requests.get(f'http://localhost:8000/group/result/{task_id}')\n",
    "print(response.json())"
   ]
  },
  {
   "cell_type": "markdown",
   "id": "298dccd9",
   "metadata": {},
   "source": [
    "# Celery Group"
   ]
  },
  {
   "cell_type": "code",
   "execution_count": 13,
   "id": "c5c692b4",
   "metadata": {},
   "outputs": [],
   "source": [
    "from package.workers.worker import add\n",
    "from package.workers.controller import celery_app\n",
    "from celery.result import AsyncResult, GroupResult\n",
    "from celery import group, chord, chain"
   ]
  },
  {
   "cell_type": "code",
   "execution_count": 14,
   "id": "0a72e206",
   "metadata": {},
   "outputs": [],
   "source": [
    "jobs = group(add.s(i, i) for i in range(2))\n",
    "result = jobs.apply_async()\n",
    "result.save()\n",
    "group_id = result.id"
   ]
  },
  {
   "cell_type": "code",
   "execution_count": 15,
   "id": "5bc7b76a",
   "metadata": {},
   "outputs": [
    {
     "name": "stdout",
     "output_type": "stream",
     "text": [
      "All subtasks completed.\n"
     ]
    }
   ],
   "source": [
    "# results = GroupResult.restore(task_id, app=celery_app)\n",
    "restored = GroupResult.restore(group_id, app=celery_app)\n",
    "\n",
    "if restored.ready():\n",
    "    print(\"All subtasks completed.\")"
   ]
  },
  {
   "cell_type": "code",
   "execution_count": 16,
   "id": "8e97d3cf",
   "metadata": {},
   "outputs": [
    {
     "name": "stdout",
     "output_type": "stream",
     "text": [
      "[0, 2]\n"
     ]
    }
   ],
   "source": [
    "if restored.successful():\n",
    "    _ = restored.get(timeout=5)\n",
    "    print(_)"
   ]
  },
  {
   "cell_type": "code",
   "execution_count": 17,
   "id": "c2f87397",
   "metadata": {},
   "outputs": [
    {
     "data": {
      "text/plain": [
       "[0, 2]"
      ]
     },
     "execution_count": 17,
     "metadata": {},
     "output_type": "execute_result"
    }
   ],
   "source": [
    "restored.get(timeout=2)"
   ]
  },
  {
   "cell_type": "code",
   "execution_count": null,
   "id": "6a559b5c",
   "metadata": {},
   "outputs": [],
   "source": []
  }
 ],
 "metadata": {
  "kernelspec": {
   "display_name": ".venv",
   "language": "python",
   "name": "python3"
  },
  "language_info": {
   "codemirror_mode": {
    "name": "ipython",
    "version": 3
   },
   "file_extension": ".py",
   "mimetype": "text/x-python",
   "name": "python",
   "nbconvert_exporter": "python",
   "pygments_lexer": "ipython3",
   "version": "3.11.12"
  }
 },
 "nbformat": 4,
 "nbformat_minor": 5
}
